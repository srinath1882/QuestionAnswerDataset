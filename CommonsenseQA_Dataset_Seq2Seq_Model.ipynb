{
  "nbformat": 4,
  "nbformat_minor": 0,
  "metadata": {
    "accelerator": "GPU",
    "colab": {
      "name": "CommonsenseQA_Dataset_Seq2Seq_Model.ipynb",
      "provenance": []
    },
    "kernelspec": {
      "display_name": "Python 3",
      "name": "python3"
    }
  },
  "cells": [
    {
      "cell_type": "code",
      "metadata": {
        "id": "dx5QUKSLbG5m"
      },
      "source": [
        "import json\r\n",
        "import pickle\r\n",
        "import pandas as pd\r\n",
        "import os\r\n",
        "\r\n",
        "import torch\r\n",
        "import torch.nn as nn\r\n",
        "import torch.optim as optim\r\n",
        "\r\n",
        "from torchtext.data import Field, BucketIterator\r\n",
        "import torch.nn.functional as F\r\n",
        "import spacy\r\n",
        "import numpy as np\r\n",
        "\r\n",
        "import random\r\n",
        "import math\r\n",
        "import time\r\n",
        "\r\n",
        "from torchtext.data import TabularDataset"
      ],
      "execution_count": 35,
      "outputs": []
    },
    {
      "cell_type": "code",
      "metadata": {
        "id": "65BM2KP1bKLR"
      },
      "source": [
        "SEED = 1234\r\n",
        "\r\n",
        "random.seed(SEED)\r\n",
        "np.random.seed(SEED)\r\n",
        "torch.manual_seed(SEED)\r\n",
        "torch.cuda.manual_seed(SEED)\r\n",
        "torch.backends.cudnn.deterministic = True"
      ],
      "execution_count": 36,
      "outputs": []
    },
    {
      "cell_type": "code",
      "metadata": {
        "colab": {
          "base_uri": "https://localhost:8080/"
        },
        "id": "IVw2O5IGHKNU",
        "outputId": "57159ae1-30f9-46e1-9f91-d7980ccb0226"
      },
      "source": [
        "!wget https://s3.amazonaws.com/commensenseqa/train_rand_split.jsonl"
      ],
      "execution_count": 1,
      "outputs": [
        {
          "output_type": "stream",
          "text": [
            "--2020-12-30 05:54:55--  https://s3.amazonaws.com/commensenseqa/train_rand_split.jsonl\n",
            "Resolving s3.amazonaws.com (s3.amazonaws.com)... 52.217.47.190\n",
            "Connecting to s3.amazonaws.com (s3.amazonaws.com)|52.217.47.190|:443... connected.\n",
            "HTTP request sent, awaiting response... 200 OK\n",
            "Length: 3785890 (3.6M) [binary/octet-stream]\n",
            "Saving to: ‘train_rand_split.jsonl’\n",
            "\n",
            "train_rand_split.js 100%[===================>]   3.61M  7.61MB/s    in 0.5s    \n",
            "\n",
            "2020-12-30 05:54:56 (7.61 MB/s) - ‘train_rand_split.jsonl’ saved [3785890/3785890]\n",
            "\n"
          ],
          "name": "stdout"
        }
      ]
    },
    {
      "cell_type": "code",
      "metadata": {
        "colab": {
          "base_uri": "https://localhost:8080/"
        },
        "id": "CHn732nKIiiV",
        "outputId": "83418e30-36ef-4985-9754-291e22b38618"
      },
      "source": [
        "!wget https://s3.amazonaws.com/commensenseqa/dev_rand_split.jsonl"
      ],
      "execution_count": 3,
      "outputs": [
        {
          "output_type": "stream",
          "text": [
            "--2020-12-30 05:55:01--  https://s3.amazonaws.com/commensenseqa/dev_rand_split.jsonl\n",
            "Resolving s3.amazonaws.com (s3.amazonaws.com)... 52.217.73.230\n",
            "Connecting to s3.amazonaws.com (s3.amazonaws.com)|52.217.73.230|:443... connected.\n",
            "HTTP request sent, awaiting response... 200 OK\n",
            "Length: 471653 (461K) [binary/octet-stream]\n",
            "Saving to: ‘dev_rand_split.jsonl’\n",
            "\n",
            "dev_rand_split.json 100%[===================>] 460.60K  1.75MB/s    in 0.3s    \n",
            "\n",
            "2020-12-30 05:55:02 (1.75 MB/s) - ‘dev_rand_split.jsonl’ saved [471653/471653]\n",
            "\n"
          ],
          "name": "stdout"
        }
      ]
    },
    {
      "cell_type": "code",
      "metadata": {
        "id": "ae1x7R31Irqz"
      },
      "source": [
        "import json\r\n",
        "import pandas as pd\r\n",
        "import os"
      ],
      "execution_count": 32,
      "outputs": []
    },
    {
      "cell_type": "code",
      "metadata": {
        "id": "4YDtw3EnNuuB"
      },
      "source": [
        "df = pd.read_json('/content/dev_rand_split.jsonl',lines= True)"
      ],
      "execution_count": 5,
      "outputs": []
    },
    {
      "cell_type": "code",
      "metadata": {
        "colab": {
          "base_uri": "https://localhost:8080/",
          "height": 206
        },
        "id": "TbxNfYBoOeEi",
        "outputId": "16098e9f-ba4a-44f0-f29d-2a4d7b0d1131"
      },
      "source": [
        "df.head()"
      ],
      "execution_count": 6,
      "outputs": [
        {
          "output_type": "execute_result",
          "data": {
            "text/html": [
              "<div>\n",
              "<style scoped>\n",
              "    .dataframe tbody tr th:only-of-type {\n",
              "        vertical-align: middle;\n",
              "    }\n",
              "\n",
              "    .dataframe tbody tr th {\n",
              "        vertical-align: top;\n",
              "    }\n",
              "\n",
              "    .dataframe thead th {\n",
              "        text-align: right;\n",
              "    }\n",
              "</style>\n",
              "<table border=\"1\" class=\"dataframe\">\n",
              "  <thead>\n",
              "    <tr style=\"text-align: right;\">\n",
              "      <th></th>\n",
              "      <th>answerKey</th>\n",
              "      <th>id</th>\n",
              "      <th>question</th>\n",
              "    </tr>\n",
              "  </thead>\n",
              "  <tbody>\n",
              "    <tr>\n",
              "      <th>0</th>\n",
              "      <td>A</td>\n",
              "      <td>1afa02df02c908a558b4036e80242fac</td>\n",
              "      <td>{'question_concept': 'revolving door', 'choice...</td>\n",
              "    </tr>\n",
              "    <tr>\n",
              "      <th>1</th>\n",
              "      <td>A</td>\n",
              "      <td>a7ab086045575bb497933726e4e6ad28</td>\n",
              "      <td>{'question_concept': 'people', 'choices': [{'l...</td>\n",
              "    </tr>\n",
              "    <tr>\n",
              "      <th>2</th>\n",
              "      <td>B</td>\n",
              "      <td>b8c0a4703079cf661d7261a60a1bcbff</td>\n",
              "      <td>{'question_concept': 'magazines', 'choices': [...</td>\n",
              "    </tr>\n",
              "    <tr>\n",
              "      <th>3</th>\n",
              "      <td>A</td>\n",
              "      <td>e68fb2448fd74e402aae9982aa76e527</td>\n",
              "      <td>{'question_concept': 'hamburger', 'choices': [...</td>\n",
              "    </tr>\n",
              "    <tr>\n",
              "      <th>4</th>\n",
              "      <td>A</td>\n",
              "      <td>2435de612dd69f2012b9e40d6af4ce38</td>\n",
              "      <td>{'question_concept': 'farmland', 'choices': [{...</td>\n",
              "    </tr>\n",
              "  </tbody>\n",
              "</table>\n",
              "</div>"
            ],
            "text/plain": [
              "  answerKey  ...                                           question\n",
              "0         A  ...  {'question_concept': 'revolving door', 'choice...\n",
              "1         A  ...  {'question_concept': 'people', 'choices': [{'l...\n",
              "2         B  ...  {'question_concept': 'magazines', 'choices': [...\n",
              "3         A  ...  {'question_concept': 'hamburger', 'choices': [...\n",
              "4         A  ...  {'question_concept': 'farmland', 'choices': [{...\n",
              "\n",
              "[5 rows x 3 columns]"
            ]
          },
          "metadata": {
            "tags": []
          },
          "execution_count": 6
        }
      ]
    },
    {
      "cell_type": "code",
      "metadata": {
        "id": "TiDlor_mSu-U"
      },
      "source": [
        "question = []\r\n",
        "answer = []\r\n",
        "for i in range(df.shape[0]):\r\n",
        "  question.append(df.iloc[i].question['stem'])\r\n",
        "  choice = df.iloc[i].question['choices']\r\n",
        "  for ii in range(len(choice)):\r\n",
        "    if choice[ii]['label'] == df.iloc[i].answerKey:\r\n",
        "      answer.append(choice[ii]['text'])\r\n",
        "\r\n",
        "\r\n",
        "\r\n"
      ],
      "execution_count": 14,
      "outputs": []
    },
    {
      "cell_type": "code",
      "metadata": {
        "id": "ZuY8HZJFT5Ni"
      },
      "source": [
        "df['Question'] = question\r\n",
        "df['Answer'] = answer"
      ],
      "execution_count": 15,
      "outputs": []
    },
    {
      "cell_type": "code",
      "metadata": {
        "colab": {
          "base_uri": "https://localhost:8080/",
          "height": 206
        },
        "id": "NUvuykR5Xp3t",
        "outputId": "fc0d7049-0767-4706-a153-e60640b0739f"
      },
      "source": [
        "df.head()"
      ],
      "execution_count": 16,
      "outputs": [
        {
          "output_type": "execute_result",
          "data": {
            "text/html": [
              "<div>\n",
              "<style scoped>\n",
              "    .dataframe tbody tr th:only-of-type {\n",
              "        vertical-align: middle;\n",
              "    }\n",
              "\n",
              "    .dataframe tbody tr th {\n",
              "        vertical-align: top;\n",
              "    }\n",
              "\n",
              "    .dataframe thead th {\n",
              "        text-align: right;\n",
              "    }\n",
              "</style>\n",
              "<table border=\"1\" class=\"dataframe\">\n",
              "  <thead>\n",
              "    <tr style=\"text-align: right;\">\n",
              "      <th></th>\n",
              "      <th>answerKey</th>\n",
              "      <th>id</th>\n",
              "      <th>question</th>\n",
              "      <th>Question</th>\n",
              "      <th>Answer</th>\n",
              "    </tr>\n",
              "  </thead>\n",
              "  <tbody>\n",
              "    <tr>\n",
              "      <th>0</th>\n",
              "      <td>A</td>\n",
              "      <td>1afa02df02c908a558b4036e80242fac</td>\n",
              "      <td>{'question_concept': 'revolving door', 'choice...</td>\n",
              "      <td>A revolving door is convenient for two directi...</td>\n",
              "      <td>bank</td>\n",
              "    </tr>\n",
              "    <tr>\n",
              "      <th>1</th>\n",
              "      <td>A</td>\n",
              "      <td>a7ab086045575bb497933726e4e6ad28</td>\n",
              "      <td>{'question_concept': 'people', 'choices': [{'l...</td>\n",
              "      <td>What do people aim to do at work?</td>\n",
              "      <td>complete job</td>\n",
              "    </tr>\n",
              "    <tr>\n",
              "      <th>2</th>\n",
              "      <td>B</td>\n",
              "      <td>b8c0a4703079cf661d7261a60a1bcbff</td>\n",
              "      <td>{'question_concept': 'magazines', 'choices': [...</td>\n",
              "      <td>Where would you find magazines along side many...</td>\n",
              "      <td>bookstore</td>\n",
              "    </tr>\n",
              "    <tr>\n",
              "      <th>3</th>\n",
              "      <td>A</td>\n",
              "      <td>e68fb2448fd74e402aae9982aa76e527</td>\n",
              "      <td>{'question_concept': 'hamburger', 'choices': [...</td>\n",
              "      <td>Where are  you likely to find a hamburger?</td>\n",
              "      <td>fast food restaurant</td>\n",
              "    </tr>\n",
              "    <tr>\n",
              "      <th>4</th>\n",
              "      <td>A</td>\n",
              "      <td>2435de612dd69f2012b9e40d6af4ce38</td>\n",
              "      <td>{'question_concept': 'farmland', 'choices': [{...</td>\n",
              "      <td>James was looking for a good place to buy farm...</td>\n",
              "      <td>midwest</td>\n",
              "    </tr>\n",
              "  </tbody>\n",
              "</table>\n",
              "</div>"
            ],
            "text/plain": [
              "  answerKey  ...                Answer\n",
              "0         A  ...                  bank\n",
              "1         A  ...          complete job\n",
              "2         B  ...             bookstore\n",
              "3         A  ...  fast food restaurant\n",
              "4         A  ...               midwest\n",
              "\n",
              "[5 rows x 5 columns]"
            ]
          },
          "metadata": {
            "tags": []
          },
          "execution_count": 16
        }
      ]
    },
    {
      "cell_type": "code",
      "metadata": {
        "colab": {
          "base_uri": "https://localhost:8080/",
          "height": 206
        },
        "id": "wcflWHiOYDhf",
        "outputId": "11d02ae1-aa8e-47d2-b91a-e8414b444aaa"
      },
      "source": [
        "dev_df = df[['Question','Answer']]\r\n",
        "dev_df.head()"
      ],
      "execution_count": 18,
      "outputs": [
        {
          "output_type": "execute_result",
          "data": {
            "text/html": [
              "<div>\n",
              "<style scoped>\n",
              "    .dataframe tbody tr th:only-of-type {\n",
              "        vertical-align: middle;\n",
              "    }\n",
              "\n",
              "    .dataframe tbody tr th {\n",
              "        vertical-align: top;\n",
              "    }\n",
              "\n",
              "    .dataframe thead th {\n",
              "        text-align: right;\n",
              "    }\n",
              "</style>\n",
              "<table border=\"1\" class=\"dataframe\">\n",
              "  <thead>\n",
              "    <tr style=\"text-align: right;\">\n",
              "      <th></th>\n",
              "      <th>Question</th>\n",
              "      <th>Answer</th>\n",
              "    </tr>\n",
              "  </thead>\n",
              "  <tbody>\n",
              "    <tr>\n",
              "      <th>0</th>\n",
              "      <td>A revolving door is convenient for two directi...</td>\n",
              "      <td>bank</td>\n",
              "    </tr>\n",
              "    <tr>\n",
              "      <th>1</th>\n",
              "      <td>What do people aim to do at work?</td>\n",
              "      <td>complete job</td>\n",
              "    </tr>\n",
              "    <tr>\n",
              "      <th>2</th>\n",
              "      <td>Where would you find magazines along side many...</td>\n",
              "      <td>bookstore</td>\n",
              "    </tr>\n",
              "    <tr>\n",
              "      <th>3</th>\n",
              "      <td>Where are  you likely to find a hamburger?</td>\n",
              "      <td>fast food restaurant</td>\n",
              "    </tr>\n",
              "    <tr>\n",
              "      <th>4</th>\n",
              "      <td>James was looking for a good place to buy farm...</td>\n",
              "      <td>midwest</td>\n",
              "    </tr>\n",
              "  </tbody>\n",
              "</table>\n",
              "</div>"
            ],
            "text/plain": [
              "                                            Question                Answer\n",
              "0  A revolving door is convenient for two directi...                  bank\n",
              "1                  What do people aim to do at work?          complete job\n",
              "2  Where would you find magazines along side many...             bookstore\n",
              "3         Where are  you likely to find a hamburger?  fast food restaurant\n",
              "4  James was looking for a good place to buy farm...               midwest"
            ]
          },
          "metadata": {
            "tags": []
          },
          "execution_count": 18
        }
      ]
    },
    {
      "cell_type": "code",
      "metadata": {
        "id": "2kJOD8JTbARx"
      },
      "source": [
        "if not os.path.exists('preprocessed_valid.csv'):\r\n",
        "    dev_df.to_csv('preprocessed_valid.csv', index = False)"
      ],
      "execution_count": 34,
      "outputs": []
    },
    {
      "cell_type": "code",
      "metadata": {
        "id": "5zK_9EE82X_7"
      },
      "source": [
        "train_df =  pd.read_json('/content/train_rand_split.jsonl',lines= True) "
      ],
      "execution_count": 25,
      "outputs": []
    },
    {
      "cell_type": "code",
      "metadata": {
        "colab": {
          "base_uri": "https://localhost:8080/",
          "height": 206
        },
        "id": "4fCTogPJ3Fxn",
        "outputId": "379b701e-91d0-4b87-c203-cf5bc17eb0b1"
      },
      "source": [
        "train_df.head()"
      ],
      "execution_count": 26,
      "outputs": [
        {
          "output_type": "execute_result",
          "data": {
            "text/html": [
              "<div>\n",
              "<style scoped>\n",
              "    .dataframe tbody tr th:only-of-type {\n",
              "        vertical-align: middle;\n",
              "    }\n",
              "\n",
              "    .dataframe tbody tr th {\n",
              "        vertical-align: top;\n",
              "    }\n",
              "\n",
              "    .dataframe thead th {\n",
              "        text-align: right;\n",
              "    }\n",
              "</style>\n",
              "<table border=\"1\" class=\"dataframe\">\n",
              "  <thead>\n",
              "    <tr style=\"text-align: right;\">\n",
              "      <th></th>\n",
              "      <th>answerKey</th>\n",
              "      <th>id</th>\n",
              "      <th>question</th>\n",
              "    </tr>\n",
              "  </thead>\n",
              "  <tbody>\n",
              "    <tr>\n",
              "      <th>0</th>\n",
              "      <td>A</td>\n",
              "      <td>075e483d21c29a511267ef62bedc0461</td>\n",
              "      <td>{'question_concept': 'punishing', 'choices': [...</td>\n",
              "    </tr>\n",
              "    <tr>\n",
              "      <th>1</th>\n",
              "      <td>B</td>\n",
              "      <td>61fe6e879ff18686d7552425a36344c8</td>\n",
              "      <td>{'question_concept': 'people', 'choices': [{'l...</td>\n",
              "    </tr>\n",
              "    <tr>\n",
              "      <th>2</th>\n",
              "      <td>A</td>\n",
              "      <td>4c1cb0e95b99f72d55c068ba0255c54d</td>\n",
              "      <td>{'question_concept': 'choker', 'choices': [{'l...</td>\n",
              "    </tr>\n",
              "    <tr>\n",
              "      <th>3</th>\n",
              "      <td>D</td>\n",
              "      <td>02e821a3e53cb320790950aab4489e85</td>\n",
              "      <td>{'question_concept': 'highway', 'choices': [{'...</td>\n",
              "    </tr>\n",
              "    <tr>\n",
              "      <th>4</th>\n",
              "      <td>C</td>\n",
              "      <td>23505889b94e880c3e89cff4ba119860</td>\n",
              "      <td>{'question_concept': 'fox', 'choices': [{'labe...</td>\n",
              "    </tr>\n",
              "  </tbody>\n",
              "</table>\n",
              "</div>"
            ],
            "text/plain": [
              "  answerKey  ...                                           question\n",
              "0         A  ...  {'question_concept': 'punishing', 'choices': [...\n",
              "1         B  ...  {'question_concept': 'people', 'choices': [{'l...\n",
              "2         A  ...  {'question_concept': 'choker', 'choices': [{'l...\n",
              "3         D  ...  {'question_concept': 'highway', 'choices': [{'...\n",
              "4         C  ...  {'question_concept': 'fox', 'choices': [{'labe...\n",
              "\n",
              "[5 rows x 3 columns]"
            ]
          },
          "metadata": {
            "tags": []
          },
          "execution_count": 26
        }
      ]
    },
    {
      "cell_type": "code",
      "metadata": {
        "id": "NW8mfTuKPfHx"
      },
      "source": [
        "question = []\r\n",
        "answer = []\r\n",
        "for i in range(train_df.shape[0]):\r\n",
        "  question.append(train_df.iloc[i].question['stem'])\r\n",
        "  choice = train_df.iloc[i].question['choices']\r\n",
        "  for ii in range(len(choice)):\r\n",
        "    if choice[ii]['label'] == train_df.iloc[i].answerKey:\r\n",
        "      answer.append(choice[ii]['text'])"
      ],
      "execution_count": 27,
      "outputs": []
    },
    {
      "cell_type": "code",
      "metadata": {
        "id": "5iRa1zp4Zy6P"
      },
      "source": [
        "train_df['Question'] = question\r\n",
        "train_df['Answer'] = answer"
      ],
      "execution_count": 28,
      "outputs": []
    },
    {
      "cell_type": "code",
      "metadata": {
        "colab": {
          "base_uri": "https://localhost:8080/",
          "height": 206
        },
        "id": "c0n4_Y4HaFS7",
        "outputId": "96c68fbc-31f3-4650-9364-de2cc25b02e9"
      },
      "source": [
        "train_df = train_df[['Question','Answer']]\r\n",
        "train_df.head()"
      ],
      "execution_count": 29,
      "outputs": [
        {
          "output_type": "execute_result",
          "data": {
            "text/html": [
              "<div>\n",
              "<style scoped>\n",
              "    .dataframe tbody tr th:only-of-type {\n",
              "        vertical-align: middle;\n",
              "    }\n",
              "\n",
              "    .dataframe tbody tr th {\n",
              "        vertical-align: top;\n",
              "    }\n",
              "\n",
              "    .dataframe thead th {\n",
              "        text-align: right;\n",
              "    }\n",
              "</style>\n",
              "<table border=\"1\" class=\"dataframe\">\n",
              "  <thead>\n",
              "    <tr style=\"text-align: right;\">\n",
              "      <th></th>\n",
              "      <th>Question</th>\n",
              "      <th>Answer</th>\n",
              "    </tr>\n",
              "  </thead>\n",
              "  <tbody>\n",
              "    <tr>\n",
              "      <th>0</th>\n",
              "      <td>The sanctions against the school were a punish...</td>\n",
              "      <td>ignore</td>\n",
              "    </tr>\n",
              "    <tr>\n",
              "      <th>1</th>\n",
              "      <td>Sammy wanted to go to where the people were.  ...</td>\n",
              "      <td>populated areas</td>\n",
              "    </tr>\n",
              "    <tr>\n",
              "      <th>2</th>\n",
              "      <td>To locate a choker not located in a jewelry bo...</td>\n",
              "      <td>jewelry store</td>\n",
              "    </tr>\n",
              "    <tr>\n",
              "      <th>3</th>\n",
              "      <td>Google Maps and other highway and street GPS s...</td>\n",
              "      <td>atlas</td>\n",
              "    </tr>\n",
              "    <tr>\n",
              "      <th>4</th>\n",
              "      <td>The fox walked from the city into the forest, ...</td>\n",
              "      <td>natural habitat</td>\n",
              "    </tr>\n",
              "  </tbody>\n",
              "</table>\n",
              "</div>"
            ],
            "text/plain": [
              "                                            Question           Answer\n",
              "0  The sanctions against the school were a punish...           ignore\n",
              "1  Sammy wanted to go to where the people were.  ...  populated areas\n",
              "2  To locate a choker not located in a jewelry bo...    jewelry store\n",
              "3  Google Maps and other highway and street GPS s...            atlas\n",
              "4  The fox walked from the city into the forest, ...  natural habitat"
            ]
          },
          "metadata": {
            "tags": []
          },
          "execution_count": 29
        }
      ]
    },
    {
      "cell_type": "code",
      "metadata": {
        "id": "2wz5pyI8avNY"
      },
      "source": [
        "if not os.path.exists('preprocessed_train.csv'):\r\n",
        "    train_df.to_csv('preprocessed_train.csv', index = False)"
      ],
      "execution_count": 33,
      "outputs": []
    },
    {
      "cell_type": "code",
      "metadata": {
        "id": "bnRbM7L9a9IQ"
      },
      "source": [
        "spacy_en = spacy.load('en')"
      ],
      "execution_count": 37,
      "outputs": []
    },
    {
      "cell_type": "code",
      "metadata": {
        "id": "nqLSuL5Nb0HD"
      },
      "source": [
        "def tokenize_en(text):\r\n",
        "    \"\"\"\r\n",
        "    Tokenizes English text from a string into a list of strings\r\n",
        "    \"\"\"\r\n",
        "    return [tok.text for tok in spacy_en.tokenizer(text)]"
      ],
      "execution_count": 38,
      "outputs": []
    },
    {
      "cell_type": "code",
      "metadata": {
        "id": "GS4-gMVnb1hv"
      },
      "source": [
        "QSTN = Field(tokenize=tokenize_en, \r\n",
        "            init_token='<sos>', \r\n",
        "            eos_token='<eos>', \r\n",
        "            lower=True)\r\n",
        "\r\n",
        "ANS = Field(tokenize = tokenize_en, \r\n",
        "            init_token='<sos>', \r\n",
        "            eos_token='<eos>', \r\n",
        "            lower=True)"
      ],
      "execution_count": 39,
      "outputs": []
    },
    {
      "cell_type": "code",
      "metadata": {
        "id": "3blh_xHsb2iV"
      },
      "source": [
        "trainset = TabularDataset(path='preprocessed_train.csv', format='csv', skip_header=True,\r\n",
        "                            fields=[('Question', QSTN), ('Answer', ANS)])"
      ],
      "execution_count": 41,
      "outputs": []
    },
    {
      "cell_type": "code",
      "metadata": {
        "id": "Ni88qKpUb6Ob"
      },
      "source": [
        "test_data = TabularDataset(path='preprocessed_valid.csv', format='csv', skip_header=True,\r\n",
        "                            fields=[('Question', QSTN), ('Answer', ANS)])"
      ],
      "execution_count": 42,
      "outputs": []
    },
    {
      "cell_type": "code",
      "metadata": {
        "id": "_-dqgOMxb9Sb"
      },
      "source": [
        "train_data, valid_data = trainset.split(split_ratio = 0.7, random_state=random.getstate())  "
      ],
      "execution_count": 43,
      "outputs": []
    },
    {
      "cell_type": "code",
      "metadata": {
        "colab": {
          "base_uri": "https://localhost:8080/"
        },
        "id": "BkwxK1svb-gP",
        "outputId": "bf893475-0d2c-472c-ed7b-6c9dda2c1299"
      },
      "source": [
        "vars(train_data.examples[0])"
      ],
      "execution_count": 44,
      "outputs": [
        {
          "output_type": "execute_result",
          "data": {
            "text/plain": [
              "{'Answer': ['fifties'],\n",
              " 'Question': ['jerry',\n",
              "  'was',\n",
              "  'too',\n",
              "  'old',\n",
              "  'for',\n",
              "  'this',\n",
              "  'shit',\n",
              "  '.',\n",
              "  ' ',\n",
              "  'he',\n",
              "  'was',\n",
              "  'too',\n",
              "  'square',\n",
              "  ',',\n",
              "  'too',\n",
              "  '.',\n",
              "  ' ',\n",
              "  'he',\n",
              "  'never',\n",
              "  'did',\n",
              "  'drugs',\n",
              "  ',',\n",
              "  'never',\n",
              "  'drank',\n",
              "  ',',\n",
              "  'but',\n",
              "  'he',\n",
              "  'was',\n",
              "  'in',\n",
              "  'his',\n",
              "  'what',\n",
              "  '?']}"
            ]
          },
          "metadata": {
            "tags": []
          },
          "execution_count": 44
        }
      ]
    },
    {
      "cell_type": "code",
      "metadata": {
        "colab": {
          "base_uri": "https://localhost:8080/"
        },
        "id": "GN7v3QFNcAAX",
        "outputId": "5bbb031f-b6d0-484f-9770-029d55b5b630"
      },
      "source": [
        "vars(valid_data.examples[0])"
      ],
      "execution_count": 45,
      "outputs": [
        {
          "output_type": "execute_result",
          "data": {
            "text/plain": [
              "{'Answer': ['maternity', 'ward'],\n",
              " 'Question': ['where',\n",
              "  'would',\n",
              "  'you',\n",
              "  'find',\n",
              "  'a',\n",
              "  'waiting',\n",
              "  'room',\n",
              "  'with',\n",
              "  'only',\n",
              "  'some',\n",
              "  'fathers',\n",
              "  '?']}"
            ]
          },
          "metadata": {
            "tags": []
          },
          "execution_count": 45
        }
      ]
    },
    {
      "cell_type": "code",
      "metadata": {
        "id": "kIrRRNMzcEuO"
      },
      "source": [
        "QSTN.build_vocab(train_data, min_freq = 2)\r\n",
        "ANS.build_vocab(train_data, min_freq = 2)"
      ],
      "execution_count": 46,
      "outputs": []
    },
    {
      "cell_type": "code",
      "metadata": {
        "id": "xP_AJk5rcIT2"
      },
      "source": [
        "device = torch.device('cuda' if torch.cuda.is_available() else 'cpu')"
      ],
      "execution_count": 47,
      "outputs": []
    },
    {
      "cell_type": "code",
      "metadata": {
        "id": "mCqj-5uOcK_m"
      },
      "source": [
        "BATCH_SIZE = 128\r\n",
        "\r\n",
        "train_iterator, valid_iterator, test_iterator = BucketIterator.splits(\r\n",
        "    (train_data, valid_data, test_data), \r\n",
        "    batch_size = BATCH_SIZE, \r\n",
        "    device = device, sort_key=lambda x: len(x.Question), # the BucketIterator needs to be told what function it should use to group the data.\r\n",
        " sort_within_batch=False,)"
      ],
      "execution_count": 61,
      "outputs": []
    },
    {
      "cell_type": "code",
      "metadata": {
        "id": "RenqGzilcMGS"
      },
      "source": [
        "class Encoder(nn.Module):\r\n",
        "    def __init__(self, input_dim, emb_dim, hid_dim, dropout):\r\n",
        "        super().__init__()\r\n",
        "\r\n",
        "        self.hid_dim = hid_dim\r\n",
        "        \r\n",
        "        self.embedding = nn.Embedding(input_dim, emb_dim) #no dropout as only one layer!\r\n",
        "        \r\n",
        "        self.rnn = nn.GRU(emb_dim, hid_dim)\r\n",
        "        \r\n",
        "        self.dropout = nn.Dropout(dropout)\r\n",
        "        \r\n",
        "    def forward(self, src):\r\n",
        "        \r\n",
        "        #src = [src len, batch size]\r\n",
        "        \r\n",
        "        embedded = self.dropout(self.embedding(src))\r\n",
        "        \r\n",
        "        #embedded = [src len, batch size, emb dim]\r\n",
        "        \r\n",
        "        outputs, hidden = self.rnn(embedded) #no cell state!\r\n",
        "        \r\n",
        "        #outputs = [src len, batch size, hid dim * n directions]\r\n",
        "        #hidden = [n layers * n directions, batch size, hid dim]\r\n",
        "        \r\n",
        "        #outputs are always from the top hidden layer\r\n",
        "        \r\n",
        "        return hidden"
      ],
      "execution_count": 49,
      "outputs": []
    },
    {
      "cell_type": "code",
      "metadata": {
        "id": "HWp6irO4cNIF"
      },
      "source": [
        "class Decoder(nn.Module):\r\n",
        "    def __init__(self, output_dim, emb_dim, hid_dim, dropout):\r\n",
        "        super().__init__()\r\n",
        "\r\n",
        "        self.hid_dim = hid_dim\r\n",
        "        self.output_dim = output_dim\r\n",
        "        \r\n",
        "        self.embedding = nn.Embedding(output_dim, emb_dim)\r\n",
        "        \r\n",
        "        self.rnn = nn.GRU(emb_dim + hid_dim, hid_dim)\r\n",
        "        \r\n",
        "        self.fc_out = nn.Linear(emb_dim + hid_dim * 2, output_dim)\r\n",
        "        \r\n",
        "        self.dropout = nn.Dropout(dropout)\r\n",
        "        \r\n",
        "    def forward(self, input, hidden, context):\r\n",
        "        \r\n",
        "        #input = [batch size]\r\n",
        "        #hidden = [n layers * n directions, batch size, hid dim]\r\n",
        "        #context = [n layers * n directions, batch size, hid dim]\r\n",
        "        \r\n",
        "        #n layers and n directions in the decoder will both always be 1, therefore:\r\n",
        "        #hidden = [1, batch size, hid dim]\r\n",
        "        #context = [1, batch size, hid dim]\r\n",
        "        \r\n",
        "        input = input.unsqueeze(0)\r\n",
        "        \r\n",
        "        #input = [1, batch size]\r\n",
        "        \r\n",
        "        embedded = self.dropout(self.embedding(input))\r\n",
        "        \r\n",
        "        #embedded = [1, batch size, emb dim]\r\n",
        "                \r\n",
        "        emb_con = torch.cat((embedded, context), dim = 2)\r\n",
        "            \r\n",
        "        #emb_con = [1, batch size, emb dim + hid dim]\r\n",
        "            \r\n",
        "        output, hidden = self.rnn(emb_con, hidden)\r\n",
        "        \r\n",
        "        #output = [seq len, batch size, hid dim * n directions]\r\n",
        "        #hidden = [n layers * n directions, batch size, hid dim]\r\n",
        "        \r\n",
        "        #seq len, n layers and n directions will always be 1 in the decoder, therefore:\r\n",
        "        #output = [1, batch size, hid dim]\r\n",
        "        #hidden = [1, batch size, hid dim]\r\n",
        "        \r\n",
        "        output = torch.cat((embedded.squeeze(0), hidden.squeeze(0), context.squeeze(0)), \r\n",
        "                           dim = 1)\r\n",
        "        \r\n",
        "        #output = [batch size, emb dim + hid dim * 2]\r\n",
        "        \r\n",
        "        prediction = self.fc_out(output)\r\n",
        "        \r\n",
        "        #prediction = [batch size, output dim]\r\n",
        "        \r\n",
        "        return prediction, hidden"
      ],
      "execution_count": 50,
      "outputs": []
    },
    {
      "cell_type": "code",
      "metadata": {
        "id": "4_D4iWntcOcs"
      },
      "source": [
        "class Seq2Seq(nn.Module):\r\n",
        "    def __init__(self, encoder, decoder, device):\r\n",
        "        super().__init__()\r\n",
        "        \r\n",
        "        self.encoder = encoder\r\n",
        "        self.decoder = decoder\r\n",
        "        self.device = device\r\n",
        "        \r\n",
        "        assert encoder.hid_dim == decoder.hid_dim, \\\r\n",
        "            \"Hidden dimensions of encoder and decoder must be equal!\"\r\n",
        "        \r\n",
        "    def forward(self, src, trg, teacher_forcing_ratio = 0.5):\r\n",
        "        \r\n",
        "        #src = [src len, batch size]\r\n",
        "        #trg = [trg len, batch size]\r\n",
        "        #teacher_forcing_ratio is probability to use teacher forcing\r\n",
        "        #e.g. if teacher_forcing_ratio is 0.75 we use ground-truth inputs 75% of the time\r\n",
        "        \r\n",
        "        batch_size = trg.shape[1]\r\n",
        "        trg_len = trg.shape[0]\r\n",
        "        trg_vocab_size = self.decoder.output_dim\r\n",
        "        \r\n",
        "        #tensor to store decoder outputs\r\n",
        "        outputs = torch.zeros(trg_len, batch_size, trg_vocab_size).to(self.device)\r\n",
        "        \r\n",
        "        #last hidden state of the encoder is the context\r\n",
        "        context = self.encoder(src)\r\n",
        "        \r\n",
        "        #context also used as the initial hidden state of the decoder\r\n",
        "        hidden = context\r\n",
        "        \r\n",
        "        #first input to the decoder is the <sos> tokens\r\n",
        "        input = trg[0,:]\r\n",
        "        \r\n",
        "        for t in range(1, trg_len):\r\n",
        "            \r\n",
        "            #insert input token embedding, previous hidden state and the context state\r\n",
        "            #receive output tensor (predictions) and new hidden state\r\n",
        "            output, hidden = self.decoder(input, hidden, context)\r\n",
        "            \r\n",
        "            #place predictions in a tensor holding predictions for each token\r\n",
        "            outputs[t] = output\r\n",
        "            \r\n",
        "            #decide if we are going to use teacher forcing or not\r\n",
        "            teacher_force = random.random() < teacher_forcing_ratio\r\n",
        "            \r\n",
        "            #get the highest predicted token from our predictions\r\n",
        "            top1 = output.argmax(1) \r\n",
        "            \r\n",
        "            #if teacher forcing, use actual next token as next input\r\n",
        "            #if not, use predicted token\r\n",
        "            input = trg[t] if teacher_force else top1\r\n",
        "\r\n",
        "        return outputs"
      ],
      "execution_count": 51,
      "outputs": []
    },
    {
      "cell_type": "code",
      "metadata": {
        "id": "aOxN7jRTcPet"
      },
      "source": [
        "INPUT_DIM = len(QSTN.vocab)\r\n",
        "OUTPUT_DIM = len(ANS.vocab)\r\n",
        "ENC_EMB_DIM = 256\r\n",
        "DEC_EMB_DIM = 256\r\n",
        "HID_DIM = 512\r\n",
        "ENC_DROPOUT = 0.5\r\n",
        "DEC_DROPOUT = 0.5\r\n",
        "\r\n",
        "enc = Encoder(INPUT_DIM, ENC_EMB_DIM, HID_DIM, ENC_DROPOUT)\r\n",
        "dec = Decoder(OUTPUT_DIM, DEC_EMB_DIM, HID_DIM, DEC_DROPOUT)\r\n",
        "\r\n",
        "device = torch.device('cuda' if torch.cuda.is_available() else 'cpu')\r\n",
        "\r\n",
        "model = Seq2Seq(enc, dec, device).to(device)"
      ],
      "execution_count": 52,
      "outputs": []
    },
    {
      "cell_type": "code",
      "metadata": {
        "colab": {
          "base_uri": "https://localhost:8080/"
        },
        "id": "z5IDtis7cQn8",
        "outputId": "1e99497a-bb8b-48ae-e910-fb97b232e74c"
      },
      "source": [
        "def init_weights(m):\r\n",
        "    for name, param in m.named_parameters():\r\n",
        "        nn.init.normal_(param.data, mean=0, std=0.01)\r\n",
        "        \r\n",
        "model.apply(init_weights)"
      ],
      "execution_count": 53,
      "outputs": [
        {
          "output_type": "execute_result",
          "data": {
            "text/plain": [
              "Seq2Seq(\n",
              "  (encoder): Encoder(\n",
              "    (embedding): Embedding(3725, 256)\n",
              "    (rnn): GRU(256, 512)\n",
              "    (dropout): Dropout(p=0.5, inplace=False)\n",
              "  )\n",
              "  (decoder): Decoder(\n",
              "    (embedding): Embedding(1454, 256)\n",
              "    (rnn): GRU(768, 512)\n",
              "    (fc_out): Linear(in_features=1280, out_features=1454, bias=True)\n",
              "    (dropout): Dropout(p=0.5, inplace=False)\n",
              "  )\n",
              ")"
            ]
          },
          "metadata": {
            "tags": []
          },
          "execution_count": 53
        }
      ]
    },
    {
      "cell_type": "code",
      "metadata": {
        "colab": {
          "base_uri": "https://localhost:8080/"
        },
        "id": "ihbAcJjAcRuA",
        "outputId": "3bc2352b-5399-4949-d4ac-ecd462a1938d"
      },
      "source": [
        "def count_parameters(model):\r\n",
        "    return sum(p.numel() for p in model.parameters() if p.requires_grad)\r\n",
        "\r\n",
        "print(f'The model has {count_parameters(model):,} trainable parameters')"
      ],
      "execution_count": 54,
      "outputs": [
        {
          "output_type": "stream",
          "text": [
            "The model has 6,340,270 trainable parameters\n"
          ],
          "name": "stdout"
        }
      ]
    },
    {
      "cell_type": "code",
      "metadata": {
        "id": "KeheMSGIcTEh"
      },
      "source": [
        "optimizer = optim.Adam(model.parameters())"
      ],
      "execution_count": 55,
      "outputs": []
    },
    {
      "cell_type": "code",
      "metadata": {
        "id": "dUsuZof5cUnc"
      },
      "source": [
        "TRG_PAD_IDX = ANS.vocab.stoi[ANS.pad_token]\r\n",
        "\r\n",
        "criterion = nn.CrossEntropyLoss(ignore_index = TRG_PAD_IDX)"
      ],
      "execution_count": 56,
      "outputs": []
    },
    {
      "cell_type": "code",
      "metadata": {
        "id": "p3etc_-LcVxf"
      },
      "source": [
        "def train(model, iterator, optimizer, criterion, clip):\r\n",
        "    \r\n",
        "    model.train()\r\n",
        "    \r\n",
        "    epoch_loss = 0\r\n",
        "    \r\n",
        "    for i, batch in enumerate(iterator):\r\n",
        "        \r\n",
        "        src = batch.Question\r\n",
        "        trg = batch.Answer\r\n",
        "        \r\n",
        "        optimizer.zero_grad()\r\n",
        "        \r\n",
        "        output = model(src, trg)\r\n",
        "        \r\n",
        "        #trg = [trg len, batch size]\r\n",
        "        #output = [trg len, batch size, output dim]\r\n",
        "        \r\n",
        "        output_dim = output.shape[-1]\r\n",
        "        \r\n",
        "        output = output[1:].view(-1, output_dim)\r\n",
        "        trg = trg[1:].view(-1)\r\n",
        "        \r\n",
        "        #trg = [(trg len - 1) * batch size]\r\n",
        "        #output = [(trg len - 1) * batch size, output dim]\r\n",
        "        \r\n",
        "        loss = criterion(output, trg)\r\n",
        "        \r\n",
        "        loss.backward()\r\n",
        "        \r\n",
        "        torch.nn.utils.clip_grad_norm_(model.parameters(), clip)\r\n",
        "        \r\n",
        "        optimizer.step()\r\n",
        "        \r\n",
        "        epoch_loss += loss.item()\r\n",
        "        # print('Training Done')\r\n",
        "    return epoch_loss / len(iterator)"
      ],
      "execution_count": 57,
      "outputs": []
    },
    {
      "cell_type": "code",
      "metadata": {
        "id": "1L2apyYZcXoq"
      },
      "source": [
        "def evaluate(model, iterator, criterion):\r\n",
        "    \r\n",
        "    model.eval()\r\n",
        "    \r\n",
        "    epoch_loss = 0\r\n",
        "    \r\n",
        "    with torch.no_grad():\r\n",
        "    \r\n",
        "        for i, batch in enumerate(iterator):\r\n",
        "\r\n",
        "            src = batch.Question\r\n",
        "            # print(src)\r\n",
        "            trg = batch.Answer\r\n",
        "\r\n",
        "            output = model(src, trg, 0) #turn off teacher forcing\r\n",
        "\r\n",
        "            #trg = [trg len, batch size]\r\n",
        "            #output = [trg len, batch size, output dim]\r\n",
        "\r\n",
        "            output_dim = output.shape[-1]\r\n",
        "            \r\n",
        "            output = output[1:].view(-1, output_dim)\r\n",
        "            trg = trg[1:].view(-1)\r\n",
        "\r\n",
        "            #trg = [(trg len - 1) * batch size]\r\n",
        "            #output = [(trg len - 1) * batch size, output dim]\r\n",
        "\r\n",
        "            loss = criterion(output, trg)\r\n",
        "\r\n",
        "            epoch_loss += loss.item()\r\n",
        "        \r\n",
        "    return epoch_loss / len(iterator)"
      ],
      "execution_count": 58,
      "outputs": []
    },
    {
      "cell_type": "code",
      "metadata": {
        "id": "u6rtrYlAcZgO"
      },
      "source": [
        "def epoch_time(start_time, end_time):\r\n",
        "    elapsed_time = end_time - start_time\r\n",
        "    elapsed_mins = int(elapsed_time / 60)\r\n",
        "    elapsed_secs = int(elapsed_time - (elapsed_mins * 60))\r\n",
        "    return elapsed_mins, elapsed_secs"
      ],
      "execution_count": 59,
      "outputs": []
    },
    {
      "cell_type": "code",
      "metadata": {
        "colab": {
          "base_uri": "https://localhost:8080/"
        },
        "id": "hfUuVPEuca56",
        "outputId": "a3800838-1d60-43fc-d1ae-a18108879afc"
      },
      "source": [
        "N_EPOCHS = 10\r\n",
        "CLIP = 1\r\n",
        "\r\n",
        "best_valid_loss = float('inf')\r\n",
        "\r\n",
        "for epoch in range(N_EPOCHS):\r\n",
        "    \r\n",
        "    start_time = time.time()\r\n",
        "    \r\n",
        "    train_loss = train(model, train_iterator, optimizer, criterion, CLIP)\r\n",
        "    valid_loss = evaluate(model, valid_iterator, criterion)\r\n",
        "    \r\n",
        "    end_time = time.time()\r\n",
        "    \r\n",
        "    epoch_mins, epoch_secs = epoch_time(start_time, end_time)\r\n",
        "    \r\n",
        "    if valid_loss < best_valid_loss:\r\n",
        "        best_valid_loss = valid_loss\r\n",
        "        torch.save(model.state_dict(), 'tut2-model.pt')\r\n",
        "    \r\n",
        "    print(f'Epoch: {epoch+1:02} | Time: {epoch_mins}m {epoch_secs}s')\r\n",
        "    print(f'\\tTrain Loss: {train_loss:.3f} | Train PPL: {math.exp(train_loss):7.3f}')\r\n",
        "    print(f'\\t Val. Loss: {valid_loss:.3f} |  Val. PPL: {math.exp(valid_loss):7.3f}')"
      ],
      "execution_count": 62,
      "outputs": [
        {
          "output_type": "stream",
          "text": [
            "Epoch: 01 | Time: 0m 1s\n",
            "\tTrain Loss: 3.963 | Train PPL:  52.598\n",
            "\t Val. Loss: 3.603 |  Val. PPL:  36.722\n",
            "Epoch: 02 | Time: 0m 1s\n",
            "\tTrain Loss: 3.851 | Train PPL:  47.037\n",
            "\t Val. Loss: 3.596 |  Val. PPL:  36.469\n",
            "Epoch: 03 | Time: 0m 1s\n",
            "\tTrain Loss: 3.779 | Train PPL:  43.762\n",
            "\t Val. Loss: 3.576 |  Val. PPL:  35.725\n",
            "Epoch: 04 | Time: 0m 1s\n",
            "\tTrain Loss: 3.758 | Train PPL:  42.868\n",
            "\t Val. Loss: 3.596 |  Val. PPL:  36.462\n",
            "Epoch: 05 | Time: 0m 1s\n",
            "\tTrain Loss: 3.738 | Train PPL:  41.994\n",
            "\t Val. Loss: 3.587 |  Val. PPL:  36.133\n",
            "Epoch: 06 | Time: 0m 1s\n",
            "\tTrain Loss: 3.714 | Train PPL:  41.036\n",
            "\t Val. Loss: 3.583 |  Val. PPL:  35.975\n",
            "Epoch: 07 | Time: 0m 1s\n",
            "\tTrain Loss: 3.705 | Train PPL:  40.666\n",
            "\t Val. Loss: 3.587 |  Val. PPL:  36.115\n",
            "Epoch: 08 | Time: 0m 1s\n",
            "\tTrain Loss: 3.694 | Train PPL:  40.216\n",
            "\t Val. Loss: 3.591 |  Val. PPL:  36.261\n",
            "Epoch: 09 | Time: 0m 1s\n",
            "\tTrain Loss: 3.658 | Train PPL:  38.793\n",
            "\t Val. Loss: 3.594 |  Val. PPL:  36.394\n",
            "Epoch: 10 | Time: 0m 1s\n",
            "\tTrain Loss: 3.680 | Train PPL:  39.653\n",
            "\t Val. Loss: 3.637 |  Val. PPL:  37.993\n"
          ],
          "name": "stdout"
        }
      ]
    },
    {
      "cell_type": "code",
      "metadata": {
        "colab": {
          "base_uri": "https://localhost:8080/"
        },
        "id": "opq86sADccZe",
        "outputId": "a1a93265-8d44-47e8-fa59-51b00e977b6a"
      },
      "source": [
        "model.load_state_dict(torch.load('tut2-model.pt'))\r\n",
        "\r\n",
        "test_loss = evaluate(model, test_iterator, criterion)\r\n",
        "\r\n",
        "print(f'| Test Loss: {test_loss:.3f} | Test PPL: {math.exp(test_loss):7.3f} |')"
      ],
      "execution_count": 63,
      "outputs": [
        {
          "output_type": "stream",
          "text": [
            "| Test Loss: 3.556 | Test PPL:  35.012 |\n"
          ],
          "name": "stdout"
        }
      ]
    },
    {
      "cell_type": "code",
      "metadata": {
        "id": "kUD4mcDgc-57"
      },
      "source": [
        ""
      ],
      "execution_count": null,
      "outputs": []
    }
  ]
}