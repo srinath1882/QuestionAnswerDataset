{
  "nbformat": 4,
  "nbformat_minor": 0,
  "metadata": {
    "colab": {
      "name": "Squad_Dataset_Seq2Seq_Model.ipynb",
      "provenance": []
    },
    "kernelspec": {
      "name": "python3",
      "display_name": "Python 3"
    },
    "accelerator": "GPU"
  },
  "cells": [
    {
      "cell_type": "code",
      "metadata": {
        "id": "_tjs9j0QENiO"
      },
      "source": [
        "import json\r\n",
        "import pickle\r\n",
        "import pandas as pd\r\n",
        "import os\r\n",
        "\r\n",
        "import torch\r\n",
        "import torch.nn as nn\r\n",
        "import torch.optim as optim\r\n",
        "\r\n",
        "from torchtext.data import Field, BucketIterator\r\n",
        "import torch.nn.functional as F\r\n",
        "import spacy\r\n",
        "import numpy as np\r\n",
        "\r\n",
        "import random\r\n",
        "import math\r\n",
        "import time\r\n",
        "\r\n",
        "from torchtext.data import TabularDataset"
      ],
      "execution_count": null,
      "outputs": []
    },
    {
      "cell_type": "code",
      "metadata": {
        "id": "9W_1LvDFJHOM"
      },
      "source": [
        "SEED = 1234\r\n",
        "\r\n",
        "random.seed(SEED)\r\n",
        "np.random.seed(SEED)\r\n",
        "torch.manual_seed(SEED)\r\n",
        "torch.cuda.manual_seed(SEED)\r\n",
        "torch.backends.cudnn.deterministic = True"
      ],
      "execution_count": null,
      "outputs": []
    },
    {
      "cell_type": "code",
      "metadata": {
        "colab": {
          "base_uri": "https://localhost:8080/"
        },
        "id": "abvNdQozDzIV",
        "outputId": "69a2002b-11f7-4fbd-bb61-776ed7f0e024"
      },
      "source": [
        "!wget \"https://rajpurkar.github.io/SQuAD-explorer/dataset/train-v2.0.json\"\r\n",
        "\r\n",
        "!wget \"https://rajpurkar.github.io/SQuAD-explorer/dataset/dev-v2.0.json\""
      ],
      "execution_count": null,
      "outputs": [
        {
          "output_type": "stream",
          "text": [
            "--2020-12-27 10:35:53--  https://rajpurkar.github.io/SQuAD-explorer/dataset/train-v2.0.json\n",
            "Resolving rajpurkar.github.io (rajpurkar.github.io)... 185.199.108.153, 185.199.109.153, 185.199.110.153, ...\n",
            "Connecting to rajpurkar.github.io (rajpurkar.github.io)|185.199.108.153|:443... connected.\n",
            "HTTP request sent, awaiting response... 200 OK\n",
            "Length: 42123633 (40M) [application/json]\n",
            "Saving to: ‘train-v2.0.json.1’\n",
            "\n",
            "train-v2.0.json.1   100%[===================>]  40.17M  --.-KB/s    in 0.1s    \n",
            "\n",
            "2020-12-27 10:35:53 (291 MB/s) - ‘train-v2.0.json.1’ saved [42123633/42123633]\n",
            "\n",
            "--2020-12-27 10:35:53--  https://rajpurkar.github.io/SQuAD-explorer/dataset/dev-v2.0.json\n",
            "Resolving rajpurkar.github.io (rajpurkar.github.io)... 185.199.108.153, 185.199.109.153, 185.199.110.153, ...\n",
            "Connecting to rajpurkar.github.io (rajpurkar.github.io)|185.199.108.153|:443... connected.\n",
            "HTTP request sent, awaiting response... 200 OK\n",
            "Length: 4370528 (4.2M) [application/json]\n",
            "Saving to: ‘dev-v2.0.json.1’\n",
            "\n",
            "dev-v2.0.json.1     100%[===================>]   4.17M  --.-KB/s    in 0.05s   \n",
            "\n",
            "2020-12-27 10:35:53 (78.8 MB/s) - ‘dev-v2.0.json.1’ saved [4370528/4370528]\n",
            "\n"
          ],
          "name": "stdout"
        }
      ]
    },
    {
      "cell_type": "code",
      "metadata": {
        "id": "Os1hEZioEJX_"
      },
      "source": [
        "def parse_squad(dataset):\r\n",
        "    \"\"\"\r\n",
        "    Parses SQUAD database into more readable format. In this case I only care\r\n",
        "    about question/answers pairs in order to make a seq2seq model that would\r\n",
        "    generate questions out of a paragraph.\r\n",
        "    \r\n",
        "    Inputs:\r\n",
        "        dataset: squad dataset in json format\r\n",
        "    Returns:\r\n",
        "        squad_json: parsed squad dataset in json format\r\n",
        "    \"\"\"\r\n",
        "    total_topics = 0\r\n",
        "    total_questions = 0\r\n",
        "    squad_json = []\r\n",
        "    \r\n",
        "    # Iterate through every topic in the dataset\r\n",
        "    for topic in dataset:\r\n",
        "        total_topics += 1\r\n",
        "        # Iterate through every text passage in the topic\r\n",
        "        for passage in topic['paragraphs']:     \r\n",
        "            # Iterate through every question/answer pairs in the passage\r\n",
        "            for qas in passage['qas']:\r\n",
        "                total_questions += 1\r\n",
        "                text_question_pair = {}\r\n",
        "                # Append the title\r\n",
        "                text_question_pair['topic'] = topic['title']   \r\n",
        "                # Append the text paragraph\r\n",
        "                text_question_pair['paragraph'] = passage['context']\r\n",
        "                # Append the question\r\n",
        "                text_question_pair['question'] = qas['question']\r\n",
        "                # Iterate through available answers\r\n",
        "                answers = []\r\n",
        "                for answer in qas['answers']:\r\n",
        "                    answers.append(answer['text'])\r\n",
        "                # And append them all together\r\n",
        "                text_question_pair['answers'] = answers \r\n",
        "                \r\n",
        "                # Append found dictionary to the full parsed dataset array\r\n",
        "                squad_json.append(text_question_pair)\r\n",
        "    \r\n",
        "    print('Found ' + str(total_topics) + ' topics in total.')\r\n",
        "    print('Found ' + str(total_questions) + ' questions in total.')\r\n",
        "    return squad_json"
      ],
      "execution_count": null,
      "outputs": []
    },
    {
      "cell_type": "code",
      "metadata": {
        "colab": {
          "base_uri": "https://localhost:8080/"
        },
        "id": "EwaZRv_5EQh_",
        "outputId": "0d3bb68c-ac8e-4721-b5e6-9bca03e87111"
      },
      "source": [
        "squad_train_filepath = './train-v2.0.json'\r\n",
        "save_path = './parsed_train_data.json'\r\n",
        "\r\n",
        "# Load squad train dataset\r\n",
        "train_json = json.load(open(squad_train_filepath, 'r'))\r\n",
        "train_dataset = train_json['data']\r\n",
        "\r\n",
        "parsed_train_squad = parse_squad(train_dataset)\r\n",
        "json.dump(parsed_train_squad, open(save_path, 'w'))"
      ],
      "execution_count": null,
      "outputs": [
        {
          "output_type": "stream",
          "text": [
            "Found 442 topics in total.\n",
            "Found 130319 questions in total.\n"
          ],
          "name": "stdout"
        }
      ]
    },
    {
      "cell_type": "code",
      "metadata": {
        "colab": {
          "base_uri": "https://localhost:8080/"
        },
        "id": "L7iZBITkEUif",
        "outputId": "06078752-637a-4536-ac68-522c9c0f1dec"
      },
      "source": [
        " \r\n",
        "squad_dev_filepath = './dev-v2.0.json'\r\n",
        "save_path = './parsed_dev_data.json'\r\n",
        "\r\n",
        "# Load squad dev dataset\r\n",
        "dev_json = json.load(open(squad_dev_filepath, 'r'))\r\n",
        "dev_dataset = dev_json['data']\r\n",
        "\r\n",
        "parsed_dev_squad = parse_squad(dev_dataset)\r\n",
        "json.dump(parsed_dev_squad, open(save_path, 'w'))"
      ],
      "execution_count": null,
      "outputs": [
        {
          "output_type": "stream",
          "text": [
            "Found 35 topics in total.\n",
            "Found 11873 questions in total.\n"
          ],
          "name": "stdout"
        }
      ]
    },
    {
      "cell_type": "code",
      "metadata": {
        "id": "5H5hINb1EXVU"
      },
      "source": [
        "\r\n",
        "train_filepath = './parsed_train_data.json'\r\n",
        "dev_filepath = './parsed_dev_data.json'\r\n",
        "\r\n",
        "train_set = json.load(open(train_filepath, 'r'))\r\n",
        "dev_set = json.load(open(dev_filepath, 'r'))\r\n",
        "\r\n",
        "train_paragraphs = []\r\n",
        "train_questions = []\r\n",
        "train_answers = []\r\n",
        "for section in train_set:\r\n",
        "  if len(section['answers']) != 0:\r\n",
        "    train_paragraphs.append(section['paragraph'])\r\n",
        "    train_questions.append(section['question'])\r\n",
        "    train_answers.append(section['answers'][0])\r\n",
        "    \r\n",
        "dev_paragraphs = []\r\n",
        "dev_questions = []\r\n",
        "dev_answers = []\r\n",
        "for section in dev_set:\r\n",
        "  if len(section['answers']) != 0:\r\n",
        "    dev_paragraphs.append(section['paragraph'])\r\n",
        "    dev_questions.append(section['question'])\r\n",
        "    dev_answers.append(section['answers'][0])\r\n",
        "assert len(train_paragraphs) == len(train_questions)\r\n",
        "assert len(dev_paragraphs) == len(dev_questions)"
      ],
      "execution_count": null,
      "outputs": []
    },
    {
      "cell_type": "code",
      "metadata": {
        "colab": {
          "base_uri": "https://localhost:8080/",
          "height": 206
        },
        "id": "gT-EwkcgEahW",
        "outputId": "eb3323b1-4e52-4732-b96d-9113ba79ab16"
      },
      "source": [
        "train_dict = {'Questions':train_questions,'Answers':train_answers}\r\n",
        "train_data = pd.DataFrame(train_dict)\r\n",
        "train_data.head()"
      ],
      "execution_count": null,
      "outputs": [
        {
          "output_type": "execute_result",
          "data": {
            "text/html": [
              "<div>\n",
              "<style scoped>\n",
              "    .dataframe tbody tr th:only-of-type {\n",
              "        vertical-align: middle;\n",
              "    }\n",
              "\n",
              "    .dataframe tbody tr th {\n",
              "        vertical-align: top;\n",
              "    }\n",
              "\n",
              "    .dataframe thead th {\n",
              "        text-align: right;\n",
              "    }\n",
              "</style>\n",
              "<table border=\"1\" class=\"dataframe\">\n",
              "  <thead>\n",
              "    <tr style=\"text-align: right;\">\n",
              "      <th></th>\n",
              "      <th>Questions</th>\n",
              "      <th>Answers</th>\n",
              "    </tr>\n",
              "  </thead>\n",
              "  <tbody>\n",
              "    <tr>\n",
              "      <th>0</th>\n",
              "      <td>When did Beyonce start becoming popular?</td>\n",
              "      <td>in the late 1990s</td>\n",
              "    </tr>\n",
              "    <tr>\n",
              "      <th>1</th>\n",
              "      <td>What areas did Beyonce compete in when she was...</td>\n",
              "      <td>singing and dancing</td>\n",
              "    </tr>\n",
              "    <tr>\n",
              "      <th>2</th>\n",
              "      <td>When did Beyonce leave Destiny's Child and bec...</td>\n",
              "      <td>2003</td>\n",
              "    </tr>\n",
              "    <tr>\n",
              "      <th>3</th>\n",
              "      <td>In what city and state did Beyonce  grow up?</td>\n",
              "      <td>Houston, Texas</td>\n",
              "    </tr>\n",
              "    <tr>\n",
              "      <th>4</th>\n",
              "      <td>In which decade did Beyonce become famous?</td>\n",
              "      <td>late 1990s</td>\n",
              "    </tr>\n",
              "  </tbody>\n",
              "</table>\n",
              "</div>"
            ],
            "text/plain": [
              "                                           Questions              Answers\n",
              "0           When did Beyonce start becoming popular?    in the late 1990s\n",
              "1  What areas did Beyonce compete in when she was...  singing and dancing\n",
              "2  When did Beyonce leave Destiny's Child and bec...                 2003\n",
              "3      In what city and state did Beyonce  grow up?        Houston, Texas\n",
              "4         In which decade did Beyonce become famous?           late 1990s"
            ]
          },
          "metadata": {
            "tags": []
          },
          "execution_count": 43
        }
      ]
    },
    {
      "cell_type": "code",
      "metadata": {
        "id": "gNEhbA7yHenw"
      },
      "source": [
        "if not os.path.exists('preprocessed_train.csv'):\r\n",
        "    train_data.to_csv('preprocessed_train.csv', index = False)"
      ],
      "execution_count": null,
      "outputs": []
    },
    {
      "cell_type": "code",
      "metadata": {
        "colab": {
          "base_uri": "https://localhost:8080/",
          "height": 206
        },
        "id": "AuN_oT54GhuS",
        "outputId": "db6f39d0-9574-4aa5-aa9e-459636c76a5a"
      },
      "source": [
        "valid_dict = {'Questions':dev_questions,'Answers':dev_answers}\r\n",
        "valid_data = pd.DataFrame(valid_dict)\r\n",
        "valid_data.head()"
      ],
      "execution_count": null,
      "outputs": [
        {
          "output_type": "execute_result",
          "data": {
            "text/html": [
              "<div>\n",
              "<style scoped>\n",
              "    .dataframe tbody tr th:only-of-type {\n",
              "        vertical-align: middle;\n",
              "    }\n",
              "\n",
              "    .dataframe tbody tr th {\n",
              "        vertical-align: top;\n",
              "    }\n",
              "\n",
              "    .dataframe thead th {\n",
              "        text-align: right;\n",
              "    }\n",
              "</style>\n",
              "<table border=\"1\" class=\"dataframe\">\n",
              "  <thead>\n",
              "    <tr style=\"text-align: right;\">\n",
              "      <th></th>\n",
              "      <th>Questions</th>\n",
              "      <th>Answers</th>\n",
              "    </tr>\n",
              "  </thead>\n",
              "  <tbody>\n",
              "    <tr>\n",
              "      <th>0</th>\n",
              "      <td>In what country is Normandy located?</td>\n",
              "      <td>France</td>\n",
              "    </tr>\n",
              "    <tr>\n",
              "      <th>1</th>\n",
              "      <td>When were the Normans in Normandy?</td>\n",
              "      <td>10th and 11th centuries</td>\n",
              "    </tr>\n",
              "    <tr>\n",
              "      <th>2</th>\n",
              "      <td>From which countries did the Norse originate?</td>\n",
              "      <td>Denmark, Iceland and Norway</td>\n",
              "    </tr>\n",
              "    <tr>\n",
              "      <th>3</th>\n",
              "      <td>Who was the Norse leader?</td>\n",
              "      <td>Rollo</td>\n",
              "    </tr>\n",
              "    <tr>\n",
              "      <th>4</th>\n",
              "      <td>What century did the Normans first gain their ...</td>\n",
              "      <td>10th century</td>\n",
              "    </tr>\n",
              "  </tbody>\n",
              "</table>\n",
              "</div>"
            ],
            "text/plain": [
              "                                           Questions                      Answers\n",
              "0               In what country is Normandy located?                       France\n",
              "1                 When were the Normans in Normandy?      10th and 11th centuries\n",
              "2      From which countries did the Norse originate?  Denmark, Iceland and Norway\n",
              "3                          Who was the Norse leader?                        Rollo\n",
              "4  What century did the Normans first gain their ...                 10th century"
            ]
          },
          "metadata": {
            "tags": []
          },
          "execution_count": 45
        }
      ]
    },
    {
      "cell_type": "code",
      "metadata": {
        "id": "DH_0NbWIFYw6"
      },
      "source": [
        "if not os.path.exists('preprocessed_valid.csv'):\r\n",
        "    valid_data.to_csv('preprocessed_valid.csv', index = False)"
      ],
      "execution_count": null,
      "outputs": []
    },
    {
      "cell_type": "code",
      "metadata": {
        "id": "cPZNDvMUH6GB"
      },
      "source": [
        "spacy_en = spacy.load('en')"
      ],
      "execution_count": null,
      "outputs": []
    },
    {
      "cell_type": "code",
      "metadata": {
        "id": "XOGC8D6KI9RZ"
      },
      "source": [
        "def tokenize_en(text):\r\n",
        "    \"\"\"\r\n",
        "    Tokenizes English text from a string into a list of strings\r\n",
        "    \"\"\"\r\n",
        "    return [tok.text for tok in spacy_en.tokenizer(text)]"
      ],
      "execution_count": null,
      "outputs": []
    },
    {
      "cell_type": "code",
      "metadata": {
        "id": "gbxruE2DJEgZ"
      },
      "source": [
        "QSTN = Field(tokenize=tokenize_en, \r\n",
        "            init_token='<sos>', \r\n",
        "            eos_token='<eos>', \r\n",
        "            lower=True)\r\n",
        "\r\n",
        "ANS = Field(tokenize = tokenize_en, \r\n",
        "            init_token='<sos>', \r\n",
        "            eos_token='<eos>', \r\n",
        "            lower=True)"
      ],
      "execution_count": null,
      "outputs": []
    },
    {
      "cell_type": "code",
      "metadata": {
        "id": "Lb0FI-2GJLDV"
      },
      "source": [
        "trainset = TabularDataset(path='preprocessed_train.csv', format='csv', skip_header=True,\r\n",
        "                            fields=[('Question', QSTN), ('Answer', ANS)])"
      ],
      "execution_count": null,
      "outputs": []
    },
    {
      "cell_type": "code",
      "metadata": {
        "id": "3yRob6fdJRxx"
      },
      "source": [
        "test_data = TabularDataset(path='preprocessed_valid.csv', format='csv', skip_header=True,\r\n",
        "                            fields=[('Question', QSTN), ('Answer', ANS)])"
      ],
      "execution_count": null,
      "outputs": []
    },
    {
      "cell_type": "code",
      "metadata": {
        "id": "XurwsHzMXIdo"
      },
      "source": [
        "train_data, valid_data = trainset.split(split_ratio = 0.7, random_state=random.getstate())   "
      ],
      "execution_count": null,
      "outputs": []
    },
    {
      "cell_type": "code",
      "metadata": {
        "colab": {
          "base_uri": "https://localhost:8080/"
        },
        "id": "P3_NGXFgJVk1",
        "outputId": "5a99fb21-0cb9-415b-8c37-1563b7d40cbb"
      },
      "source": [
        "vars(train_data.examples[0])"
      ],
      "execution_count": null,
      "outputs": [
        {
          "output_type": "execute_result",
          "data": {
            "text/plain": [
              "{'Answer': ['slowed',\n",
              "  'down',\n",
              "  'and',\n",
              "  'flattened',\n",
              "  'along',\n",
              "  'the',\n",
              "  'spaceship',\n",
              "  \"'s\",\n",
              "  'direction',\n",
              "  'of',\n",
              "  'travel'],\n",
              " 'Question': ['how',\n",
              "  'does',\n",
              "  'the',\n",
              "  'crew',\n",
              "  'on',\n",
              "  'board',\n",
              "  'the',\n",
              "  'spaceship',\n",
              "  'perceive',\n",
              "  'the',\n",
              "  'stationary',\n",
              "  'observer',\n",
              "  '?']}"
            ]
          },
          "metadata": {
            "tags": []
          },
          "execution_count": 53
        }
      ]
    },
    {
      "cell_type": "code",
      "metadata": {
        "colab": {
          "base_uri": "https://localhost:8080/"
        },
        "id": "-BDfjro-Jbk9",
        "outputId": "d04ee911-66d8-4f1a-8a78-78dd5a20c029"
      },
      "source": [
        "vars(valid_data.examples[0])"
      ],
      "execution_count": null,
      "outputs": [
        {
          "output_type": "execute_result",
          "data": {
            "text/plain": [
              "{'Answer': ['wholesale', 'and', 'retail'],\n",
              " 'Question': ['what',\n",
              "  \"'s\",\n",
              "  'the',\n",
              "  'third',\n",
              "  'largest',\n",
              "  'sector',\n",
              "  'providing',\n",
              "  'jobs',\n",
              "  'in',\n",
              "  'southampton',\n",
              "  '?']}"
            ]
          },
          "metadata": {
            "tags": []
          },
          "execution_count": 54
        }
      ]
    },
    {
      "cell_type": "code",
      "metadata": {
        "id": "Dzpia0DQJfc5"
      },
      "source": [
        "QSTN.build_vocab(trainset, min_freq = 2)\r\n",
        "ANS.build_vocab(trainset, min_freq = 2)"
      ],
      "execution_count": null,
      "outputs": []
    },
    {
      "cell_type": "code",
      "metadata": {
        "id": "YoGGiTWwJiYL"
      },
      "source": [
        "device = torch.device('cuda' if torch.cuda.is_available() else 'cpu')"
      ],
      "execution_count": null,
      "outputs": []
    },
    {
      "cell_type": "code",
      "metadata": {
        "id": "f6XVZjcYJum3"
      },
      "source": [
        "BATCH_SIZE = 128\r\n",
        "\r\n",
        "train_iterator, valid_iterator, test_iterator = BucketIterator.splits(\r\n",
        "    (train_data, valid_data, test_data), \r\n",
        "    batch_size = BATCH_SIZE, \r\n",
        "    device = device, sort_key=lambda x: len(x.Question), # the BucketIterator needs to be told what function it should use to group the data.\r\n",
        " sort_within_batch=False,)"
      ],
      "execution_count": null,
      "outputs": []
    },
    {
      "cell_type": "code",
      "metadata": {
        "id": "DfLdouamJ89t"
      },
      "source": [
        "class Encoder(nn.Module):\r\n",
        "    def __init__(self, input_dim, emb_dim, hid_dim, dropout):\r\n",
        "        super().__init__()\r\n",
        "\r\n",
        "        self.hid_dim = hid_dim\r\n",
        "        \r\n",
        "        self.embedding = nn.Embedding(input_dim, emb_dim) #no dropout as only one layer!\r\n",
        "        \r\n",
        "        self.rnn = nn.GRU(emb_dim, hid_dim)\r\n",
        "        \r\n",
        "        self.dropout = nn.Dropout(dropout)\r\n",
        "        \r\n",
        "    def forward(self, src):\r\n",
        "        \r\n",
        "        #src = [src len, batch size]\r\n",
        "        \r\n",
        "        embedded = self.dropout(self.embedding(src))\r\n",
        "        \r\n",
        "        #embedded = [src len, batch size, emb dim]\r\n",
        "        \r\n",
        "        outputs, hidden = self.rnn(embedded) #no cell state!\r\n",
        "        \r\n",
        "        #outputs = [src len, batch size, hid dim * n directions]\r\n",
        "        #hidden = [n layers * n directions, batch size, hid dim]\r\n",
        "        \r\n",
        "        #outputs are always from the top hidden layer\r\n",
        "        \r\n",
        "        return hidden"
      ],
      "execution_count": null,
      "outputs": []
    },
    {
      "cell_type": "code",
      "metadata": {
        "id": "aWahX87EJ_El"
      },
      "source": [
        "class Decoder(nn.Module):\r\n",
        "    def __init__(self, output_dim, emb_dim, hid_dim, dropout):\r\n",
        "        super().__init__()\r\n",
        "\r\n",
        "        self.hid_dim = hid_dim\r\n",
        "        self.output_dim = output_dim\r\n",
        "        \r\n",
        "        self.embedding = nn.Embedding(output_dim, emb_dim)\r\n",
        "        \r\n",
        "        self.rnn = nn.GRU(emb_dim + hid_dim, hid_dim)\r\n",
        "        \r\n",
        "        self.fc_out = nn.Linear(emb_dim + hid_dim * 2, output_dim)\r\n",
        "        \r\n",
        "        self.dropout = nn.Dropout(dropout)\r\n",
        "        \r\n",
        "    def forward(self, input, hidden, context):\r\n",
        "        \r\n",
        "        #input = [batch size]\r\n",
        "        #hidden = [n layers * n directions, batch size, hid dim]\r\n",
        "        #context = [n layers * n directions, batch size, hid dim]\r\n",
        "        \r\n",
        "        #n layers and n directions in the decoder will both always be 1, therefore:\r\n",
        "        #hidden = [1, batch size, hid dim]\r\n",
        "        #context = [1, batch size, hid dim]\r\n",
        "        \r\n",
        "        input = input.unsqueeze(0)\r\n",
        "        \r\n",
        "        #input = [1, batch size]\r\n",
        "        \r\n",
        "        embedded = self.dropout(self.embedding(input))\r\n",
        "        \r\n",
        "        #embedded = [1, batch size, emb dim]\r\n",
        "                \r\n",
        "        emb_con = torch.cat((embedded, context), dim = 2)\r\n",
        "            \r\n",
        "        #emb_con = [1, batch size, emb dim + hid dim]\r\n",
        "            \r\n",
        "        output, hidden = self.rnn(emb_con, hidden)\r\n",
        "        \r\n",
        "        #output = [seq len, batch size, hid dim * n directions]\r\n",
        "        #hidden = [n layers * n directions, batch size, hid dim]\r\n",
        "        \r\n",
        "        #seq len, n layers and n directions will always be 1 in the decoder, therefore:\r\n",
        "        #output = [1, batch size, hid dim]\r\n",
        "        #hidden = [1, batch size, hid dim]\r\n",
        "        \r\n",
        "        output = torch.cat((embedded.squeeze(0), hidden.squeeze(0), context.squeeze(0)), \r\n",
        "                           dim = 1)\r\n",
        "        \r\n",
        "        #output = [batch size, emb dim + hid dim * 2]\r\n",
        "        \r\n",
        "        prediction = self.fc_out(output)\r\n",
        "        \r\n",
        "        #prediction = [batch size, output dim]\r\n",
        "        \r\n",
        "        return prediction, hidden"
      ],
      "execution_count": null,
      "outputs": []
    },
    {
      "cell_type": "code",
      "metadata": {
        "id": "NjEn2kYLKA7J"
      },
      "source": [
        "class Seq2Seq(nn.Module):\r\n",
        "    def __init__(self, encoder, decoder, device):\r\n",
        "        super().__init__()\r\n",
        "        \r\n",
        "        self.encoder = encoder\r\n",
        "        self.decoder = decoder\r\n",
        "        self.device = device\r\n",
        "        \r\n",
        "        assert encoder.hid_dim == decoder.hid_dim, \\\r\n",
        "            \"Hidden dimensions of encoder and decoder must be equal!\"\r\n",
        "        \r\n",
        "    def forward(self, src, trg, teacher_forcing_ratio = 0.5):\r\n",
        "        \r\n",
        "        #src = [src len, batch size]\r\n",
        "        #trg = [trg len, batch size]\r\n",
        "        #teacher_forcing_ratio is probability to use teacher forcing\r\n",
        "        #e.g. if teacher_forcing_ratio is 0.75 we use ground-truth inputs 75% of the time\r\n",
        "        \r\n",
        "        batch_size = trg.shape[1]\r\n",
        "        trg_len = trg.shape[0]\r\n",
        "        trg_vocab_size = self.decoder.output_dim\r\n",
        "        \r\n",
        "        #tensor to store decoder outputs\r\n",
        "        outputs = torch.zeros(trg_len, batch_size, trg_vocab_size).to(self.device)\r\n",
        "        \r\n",
        "        #last hidden state of the encoder is the context\r\n",
        "        context = self.encoder(src)\r\n",
        "        \r\n",
        "        #context also used as the initial hidden state of the decoder\r\n",
        "        hidden = context\r\n",
        "        \r\n",
        "        #first input to the decoder is the <sos> tokens\r\n",
        "        input = trg[0,:]\r\n",
        "        \r\n",
        "        for t in range(1, trg_len):\r\n",
        "            \r\n",
        "            #insert input token embedding, previous hidden state and the context state\r\n",
        "            #receive output tensor (predictions) and new hidden state\r\n",
        "            output, hidden = self.decoder(input, hidden, context)\r\n",
        "            \r\n",
        "            #place predictions in a tensor holding predictions for each token\r\n",
        "            outputs[t] = output\r\n",
        "            \r\n",
        "            #decide if we are going to use teacher forcing or not\r\n",
        "            teacher_force = random.random() < teacher_forcing_ratio\r\n",
        "            \r\n",
        "            #get the highest predicted token from our predictions\r\n",
        "            top1 = output.argmax(1) \r\n",
        "            \r\n",
        "            #if teacher forcing, use actual next token as next input\r\n",
        "            #if not, use predicted token\r\n",
        "            input = trg[t] if teacher_force else top1\r\n",
        "\r\n",
        "        return outputs"
      ],
      "execution_count": null,
      "outputs": []
    },
    {
      "cell_type": "code",
      "metadata": {
        "id": "z_ZevnUKKCaQ"
      },
      "source": [
        "INPUT_DIM = len(QSTN.vocab)\r\n",
        "OUTPUT_DIM = len(ANS.vocab)\r\n",
        "ENC_EMB_DIM = 256\r\n",
        "DEC_EMB_DIM = 256\r\n",
        "HID_DIM = 512\r\n",
        "ENC_DROPOUT = 0.5\r\n",
        "DEC_DROPOUT = 0.5\r\n",
        "\r\n",
        "enc = Encoder(INPUT_DIM, ENC_EMB_DIM, HID_DIM, ENC_DROPOUT)\r\n",
        "dec = Decoder(OUTPUT_DIM, DEC_EMB_DIM, HID_DIM, DEC_DROPOUT)\r\n",
        "\r\n",
        "device = torch.device('cuda' if torch.cuda.is_available() else 'cpu')\r\n",
        "\r\n",
        "model = Seq2Seq(enc, dec, device).to(device)"
      ],
      "execution_count": null,
      "outputs": []
    },
    {
      "cell_type": "code",
      "metadata": {
        "colab": {
          "base_uri": "https://localhost:8080/"
        },
        "id": "0f3MZmfNKEap",
        "outputId": "8e49c6d5-d4e8-423c-dcb9-93bcf0e8cb7f"
      },
      "source": [
        "def init_weights(m):\r\n",
        "    for name, param in m.named_parameters():\r\n",
        "        nn.init.normal_(param.data, mean=0, std=0.01)\r\n",
        "        \r\n",
        "model.apply(init_weights)"
      ],
      "execution_count": null,
      "outputs": [
        {
          "output_type": "execute_result",
          "data": {
            "text/plain": [
              "Seq2Seq(\n",
              "  (encoder): Encoder(\n",
              "    (embedding): Embedding(21325, 256)\n",
              "    (rnn): GRU(256, 512)\n",
              "    (dropout): Dropout(p=0.5, inplace=False)\n",
              "  )\n",
              "  (decoder): Decoder(\n",
              "    (embedding): Embedding(19188, 256)\n",
              "    (rnn): GRU(768, 512)\n",
              "    (fc_out): Linear(in_features=1280, out_features=19188, bias=True)\n",
              "    (dropout): Dropout(p=0.5, inplace=False)\n",
              "  )\n",
              ")"
            ]
          },
          "metadata": {
            "tags": []
          },
          "execution_count": 62
        }
      ]
    },
    {
      "cell_type": "code",
      "metadata": {
        "colab": {
          "base_uri": "https://localhost:8080/"
        },
        "id": "Bn8aTDDGKG37",
        "outputId": "2bb94bdc-3c0b-40e3-9a53-c980346f81e6"
      },
      "source": [
        "def count_parameters(model):\r\n",
        "    return sum(p.numel() for p in model.parameters() if p.requires_grad)\r\n",
        "\r\n",
        "print(f'The model has {count_parameters(model):,} trainable parameters')"
      ],
      "execution_count": null,
      "outputs": [
        {
          "output_type": "stream",
          "text": [
            "The model has 38,103,028 trainable parameters\n"
          ],
          "name": "stdout"
        }
      ]
    },
    {
      "cell_type": "code",
      "metadata": {
        "id": "ZdEA8uPAKHaA"
      },
      "source": [
        "optimizer = optim.Adam(model.parameters())"
      ],
      "execution_count": null,
      "outputs": []
    },
    {
      "cell_type": "code",
      "metadata": {
        "id": "ofkU_rJaKJPC"
      },
      "source": [
        "TRG_PAD_IDX = ANS.vocab.stoi[ANS.pad_token]\r\n",
        "\r\n",
        "criterion = nn.CrossEntropyLoss(ignore_index = TRG_PAD_IDX)"
      ],
      "execution_count": null,
      "outputs": []
    },
    {
      "cell_type": "code",
      "metadata": {
        "id": "nPRFvrp5KJHf"
      },
      "source": [
        "def train(model, iterator, optimizer, criterion, clip):\r\n",
        "    \r\n",
        "    model.train()\r\n",
        "    \r\n",
        "    epoch_loss = 0\r\n",
        "    \r\n",
        "    for i, batch in enumerate(iterator):\r\n",
        "        \r\n",
        "        src = batch.Question\r\n",
        "        trg = batch.Answer\r\n",
        "        \r\n",
        "        optimizer.zero_grad()\r\n",
        "        \r\n",
        "        output = model(src, trg)\r\n",
        "        \r\n",
        "        #trg = [trg len, batch size]\r\n",
        "        #output = [trg len, batch size, output dim]\r\n",
        "        \r\n",
        "        output_dim = output.shape[-1]\r\n",
        "        \r\n",
        "        output = output[1:].view(-1, output_dim)\r\n",
        "        trg = trg[1:].view(-1)\r\n",
        "        \r\n",
        "        #trg = [(trg len - 1) * batch size]\r\n",
        "        #output = [(trg len - 1) * batch size, output dim]\r\n",
        "        \r\n",
        "        loss = criterion(output, trg)\r\n",
        "        \r\n",
        "        loss.backward()\r\n",
        "        \r\n",
        "        torch.nn.utils.clip_grad_norm_(model.parameters(), clip)\r\n",
        "        \r\n",
        "        optimizer.step()\r\n",
        "        \r\n",
        "        epoch_loss += loss.item()\r\n",
        "        # print('Training Done')\r\n",
        "    return epoch_loss / len(iterator)"
      ],
      "execution_count": null,
      "outputs": []
    },
    {
      "cell_type": "code",
      "metadata": {
        "id": "2UydhTstKLuS"
      },
      "source": [
        "def evaluate(model, iterator, criterion):\r\n",
        "    \r\n",
        "    model.eval()\r\n",
        "    \r\n",
        "    epoch_loss = 0\r\n",
        "    \r\n",
        "    with torch.no_grad():\r\n",
        "    \r\n",
        "        for i, batch in enumerate(iterator):\r\n",
        "\r\n",
        "            src = batch.Question\r\n",
        "            # print(src)\r\n",
        "            trg = batch.Answer\r\n",
        "\r\n",
        "            output = model(src, trg, 0) #turn off teacher forcing\r\n",
        "\r\n",
        "            #trg = [trg len, batch size]\r\n",
        "            #output = [trg len, batch size, output dim]\r\n",
        "\r\n",
        "            output_dim = output.shape[-1]\r\n",
        "            \r\n",
        "            output = output[1:].view(-1, output_dim)\r\n",
        "            trg = trg[1:].view(-1)\r\n",
        "\r\n",
        "            #trg = [(trg len - 1) * batch size]\r\n",
        "            #output = [(trg len - 1) * batch size, output dim]\r\n",
        "\r\n",
        "            loss = criterion(output, trg)\r\n",
        "\r\n",
        "            epoch_loss += loss.item()\r\n",
        "        \r\n",
        "    return epoch_loss / len(iterator)"
      ],
      "execution_count": null,
      "outputs": []
    },
    {
      "cell_type": "code",
      "metadata": {
        "id": "9PBYsax_KNH5"
      },
      "source": [
        "def epoch_time(start_time, end_time):\r\n",
        "    elapsed_time = end_time - start_time\r\n",
        "    elapsed_mins = int(elapsed_time / 60)\r\n",
        "    elapsed_secs = int(elapsed_time - (elapsed_mins * 60))\r\n",
        "    return elapsed_mins, elapsed_secs"
      ],
      "execution_count": null,
      "outputs": []
    },
    {
      "cell_type": "code",
      "metadata": {
        "colab": {
          "base_uri": "https://localhost:8080/"
        },
        "id": "aEiv2fDTKN6M",
        "outputId": "a7188598-4faf-46fb-ee25-de3af7cb035c"
      },
      "source": [
        "N_EPOCHS = 6\r\n",
        "CLIP = 1\r\n",
        "\r\n",
        "best_valid_loss = float('inf')\r\n",
        "\r\n",
        "for epoch in range(N_EPOCHS):\r\n",
        "    \r\n",
        "    start_time = time.time()\r\n",
        "    \r\n",
        "    train_loss = train(model, train_iterator, optimizer, criterion, CLIP)\r\n",
        "    valid_loss = evaluate(model, valid_iterator, criterion)\r\n",
        "    \r\n",
        "    end_time = time.time()\r\n",
        "    \r\n",
        "    epoch_mins, epoch_secs = epoch_time(start_time, end_time)\r\n",
        "    \r\n",
        "    if valid_loss < best_valid_loss:\r\n",
        "        best_valid_loss = valid_loss\r\n",
        "        torch.save(model.state_dict(), 'tut2-model.pt')\r\n",
        "    \r\n",
        "    print(f'Epoch: {epoch+1:02} | Time: {epoch_mins}m {epoch_secs}s')\r\n",
        "    print(f'\\tTrain Loss: {train_loss:.3f} | Train PPL: {math.exp(train_loss):7.3f}')\r\n",
        "    print(f'\\t Val. Loss: {valid_loss:.3f} |  Val. PPL: {math.exp(valid_loss):7.3f}')"
      ],
      "execution_count": null,
      "outputs": [
        {
          "output_type": "stream",
          "text": [
            "Epoch: 01 | Time: 3m 18s\n",
            "\tTrain Loss: 6.424 | Train PPL: 616.353\n",
            "\t Val. Loss: 6.280 |  Val. PPL: 533.863\n",
            "Epoch: 02 | Time: 3m 22s\n",
            "\tTrain Loss: 5.984 | Train PPL: 397.065\n",
            "\t Val. Loss: 6.291 |  Val. PPL: 539.447\n",
            "Epoch: 03 | Time: 3m 22s\n",
            "\tTrain Loss: 5.828 | Train PPL: 339.692\n",
            "\t Val. Loss: 6.316 |  Val. PPL: 553.124\n",
            "Epoch: 04 | Time: 3m 24s\n",
            "\tTrain Loss: 5.699 | Train PPL: 298.461\n",
            "\t Val. Loss: 6.370 |  Val. PPL: 583.898\n",
            "Epoch: 05 | Time: 3m 25s\n",
            "\tTrain Loss: 5.517 | Train PPL: 248.838\n",
            "\t Val. Loss: 6.189 |  Val. PPL: 487.319\n",
            "Epoch: 06 | Time: 3m 24s\n",
            "\tTrain Loss: 5.240 | Train PPL: 188.658\n",
            "\t Val. Loss: 6.145 |  Val. PPL: 466.314\n"
          ],
          "name": "stdout"
        }
      ]
    },
    {
      "cell_type": "code",
      "metadata": {
        "colab": {
          "base_uri": "https://localhost:8080/"
        },
        "id": "a6uMzkBAKNz4",
        "outputId": "d92dff69-68f8-48e9-8736-e3207f0c10f2"
      },
      "source": [
        "model.load_state_dict(torch.load('tut2-model.pt'))\r\n",
        "\r\n",
        "test_loss = evaluate(model, test_iterator, criterion)\r\n",
        "\r\n",
        "print(f'| Test Loss: {test_loss:.3f} | Test PPL: {math.exp(test_loss):7.3f} |')"
      ],
      "execution_count": null,
      "outputs": [
        {
          "output_type": "stream",
          "text": [
            "| Test Loss: 5.784 | Test PPL: 325.070 |\n"
          ],
          "name": "stdout"
        }
      ]
    }
  ]
}